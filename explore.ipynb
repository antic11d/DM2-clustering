{
 "cells": [
  {
   "cell_type": "code",
   "execution_count": 1,
   "metadata": {},
   "outputs": [],
   "source": [
    "import pandas as pd"
   ]
  },
  {
   "cell_type": "code",
   "execution_count": 2,
   "metadata": {},
   "outputs": [],
   "source": [
    "explore_path1 = './data/drop-1000-1/'\n",
    "explore_path2 = './data/drop-1-1000/'\n",
    "\n",
    "sample_folders = ['GSM2560245', 'GSM2560246', 'GSM2560247', 'GSM2560248',\n",
    "                  'GSM2560249', 'GSM3087619', 'GSM3087622', 'GSM3087624',\n",
    "                  'GSM3087626', 'GSM3169075',  # 'GSM3374613', 'GSM3374614',\n",
    "                  'GSM3478791', 'GSM3478792', 'GSM3892570', 'GSM3892571',\n",
    "                  'GSM3892572', 'GSM3892573', 'GSM3892574', 'GSM3892575',\n",
    "                  'GSM3892576']\n",
    " \n",
    "groups = [['GSM3020396', 'GSM3020397', 'GSM3020398', 'GSM3020399', 'GSM3020400', 'GSM3020401', 'GSM3020402', 'GSM3020403', 'GSM3020404', 'GSM3478791'],\n",
    "          ['GSM3087619', 'GSM3478792', 'GSM3836743',  'GSM3836744', 'GSM3836745', 'GSM3836746', 'GSM3836753', 'GSM3836754', 'GSM3836755', 'GSM3836756', 'GSM3836758', 'GSM3836759',\n",
    "           'GSM3836760', 'GSM3836761', 'GSM3836762', 'GSM3836763', 'GSM3836764', 'GSM3836765', 'GSM3837156', 'GSM3837157', 'GSM3837158', 'GSM3837159', 'GSM3837170', 'GSM3837171',\n",
    "           'GSM3837172', 'GSM3837173', 'GSM3892570', 'GSM3892571', 'GSM3169075', 'GSM2695382'],#, GSM3374613, GSM3374614],\n",
    "          ['GSM3087622', 'GSM3087624', 'GSM3087626'],\n",
    "          ['GSM3892572', 'GSM3892573', 'GSM3892574', 'GSM3892575', 'GSM3892576'],\n",
    "          ['GSM2560245', 'GSM2560246', 'GSM2560247', 'GSM2560248', 'GSM2560249']]"
   ]
  },
  {
   "cell_type": "code",
   "execution_count": 3,
   "metadata": {},
   "outputs": [],
   "source": [
    "sample_paths = [[x+'.csv' for x in y] for y in groups]\n",
    "file_not_found = [[], [], [], [], []]"
   ]
  },
  {
   "cell_type": "code",
   "execution_count": 4,
   "metadata": {},
   "outputs": [
    {
     "name": "stdout",
     "output_type": "stream",
     "text": [
      "Group 1\n",
      "\tGSM3478791.csv\n",
      "\t\t1000-1(10771, 3533)\n",
      "\t\t1-1000(10771, 3528)\n",
      "\t\tFalse\n",
      "Group 2\n",
      "\tGSM3087619.csv\n",
      "\t\t1000-1(10482, 4977)\n",
      "\t\t1-1000(10482, 4977)\n",
      "\t\tTrue\n",
      "\tGSM3478792.csv\n",
      "\t\t1000-1(10205, 4488)\n",
      "\t\t1-1000(10205, 4487)\n",
      "\t\tFalse\n",
      "\tGSM3892570.csv\n",
      "\t\t1000-1(11697, 7662)\n",
      "\t\t1-1000(11697, 7662)\n",
      "\t\tTrue\n",
      "\tGSM3892571.csv\n",
      "\t\t1000-1(11269, 8781)\n",
      "\t\t1-1000(11269, 8781)\n",
      "\t\tTrue\n",
      "\tGSM3169075.csv\n",
      "\t\t1000-1(11141, 3357)\n",
      "\t\t1-1000(11148, 3354)\n",
      "\t\tFalse\n",
      "Group 3\n",
      "\tGSM3087622.csv\n",
      "\t\t1000-1(9699, 2683)\n",
      "\t\t1-1000(9560, 2673)\n",
      "\t\tFalse\n",
      "\tGSM3087624.csv\n",
      "\t\t1000-1(9845, 2824)\n",
      "\t\t1-1000(9845, 2821)\n",
      "\t\tFalse\n",
      "\tGSM3087626.csv\n",
      "\t\t1000-1(9775, 3901)\n",
      "\t\t1-1000(9775, 3901)\n",
      "\t\tTrue\n",
      "Group 4\n",
      "\tGSM3892572.csv\n",
      "\t\t1000-1(11220, 4959)\n",
      "\t\t1-1000(11220, 4959)\n",
      "\t\tTrue\n",
      "\tGSM3892573.csv\n",
      "\t\t1000-1(12687, 2001)\n",
      "\t\t1-1000(12687, 2001)\n",
      "\t\tTrue\n",
      "\tGSM3892574.csv\n",
      "\t\t1000-1(13555, 1192)\n",
      "\t\t1-1000(13555, 1192)\n",
      "\t\tTrue\n",
      "\tGSM3892575.csv\n",
      "\t\t1000-1(11949, 2893)\n",
      "\t\t1-1000(11949, 2893)\n",
      "\t\tTrue\n",
      "\tGSM3892576.csv\n",
      "\t\t1000-1(10696, 6577)\n",
      "\t\t1-1000(10696, 6576)\n",
      "\t\tFalse\n",
      "Group 5\n",
      "\tGSM2560245.csv\n",
      "\t\t1000-1(6706, 1595)\n",
      "\t\t1-1000(5682, 1482)\n",
      "\t\tFalse\n",
      "\tGSM2560246.csv\n",
      "\t\t1000-1(6606, 1309)\n",
      "\t\t1-1000(5409, 1187)\n",
      "\t\tFalse\n",
      "\tGSM2560247.csv\n",
      "\t\t1000-1(6876, 1665)\n",
      "\t\t1-1000(5311, 1501)\n",
      "\t\tFalse\n",
      "\tGSM2560248.csv\n",
      "\t\t1000-1(7488, 10421)\n",
      "\t\t1-1000(7135, 10162)\n",
      "\t\tFalse\n",
      "\tGSM2560249.csv\n",
      "\t\t1000-1(7084, 11086)\n",
      "\t\t1-1000(6808, 10869)\n",
      "\t\tFalse\n"
     ]
    }
   ],
   "source": [
    "for i, group in enumerate(sample_paths):\n",
    "    print(f'Group {i+1}')\n",
    "    for path in group:\n",
    "        try:\n",
    "            df_1 = pd.read_csv(explore_path1+path)\n",
    "            df_2 = pd.read_csv(explore_path2+path)\n",
    "\n",
    "            print(f'\\t{path}')\n",
    "            print(f'\\t\\t1000-1{df_1.shape}')\n",
    "            print(f'\\t\\t1-1000{df_2.shape}')\n",
    "            print(f'\\t\\t{df_1.shape == df_2.shape}')\n",
    "        except:\n",
    "            file_not_found[i].append(path)"
   ]
  },
  {
   "cell_type": "code",
   "execution_count": 5,
   "metadata": {},
   "outputs": [
    {
     "data": {
      "text/plain": [
       "[['GSM3020396.csv',\n",
       "  'GSM3020397.csv',\n",
       "  'GSM3020398.csv',\n",
       "  'GSM3020399.csv',\n",
       "  'GSM3020400.csv',\n",
       "  'GSM3020401.csv',\n",
       "  'GSM3020402.csv',\n",
       "  'GSM3020403.csv',\n",
       "  'GSM3020404.csv'],\n",
       " ['GSM3836743.csv',\n",
       "  'GSM3836744.csv',\n",
       "  'GSM3836745.csv',\n",
       "  'GSM3836746.csv',\n",
       "  'GSM3836753.csv',\n",
       "  'GSM3836754.csv',\n",
       "  'GSM3836755.csv',\n",
       "  'GSM3836756.csv',\n",
       "  'GSM3836758.csv',\n",
       "  'GSM3836759.csv',\n",
       "  'GSM3836760.csv',\n",
       "  'GSM3836761.csv',\n",
       "  'GSM3836762.csv',\n",
       "  'GSM3836763.csv',\n",
       "  'GSM3836764.csv',\n",
       "  'GSM3836765.csv',\n",
       "  'GSM3837156.csv',\n",
       "  'GSM3837157.csv',\n",
       "  'GSM3837158.csv',\n",
       "  'GSM3837159.csv',\n",
       "  'GSM3837170.csv',\n",
       "  'GSM3837171.csv',\n",
       "  'GSM3837172.csv',\n",
       "  'GSM3837173.csv',\n",
       "  'GSM2695382.csv'],\n",
       " [],\n",
       " [],\n",
       " []]"
      ]
     },
     "execution_count": 5,
     "metadata": {},
     "output_type": "execute_result"
    }
   ],
   "source": [
    "file_not_found"
   ]
  }
 ],
 "metadata": {
  "kernelspec": {
   "display_name": "Python 3",
   "language": "python",
   "name": "python3"
  },
  "language_info": {
   "codemirror_mode": {
    "name": "ipython",
    "version": 3
   },
   "file_extension": ".py",
   "mimetype": "text/x-python",
   "name": "python",
   "nbconvert_exporter": "python",
   "pygments_lexer": "ipython3",
   "version": "3.6.9"
  }
 },
 "nbformat": 4,
 "nbformat_minor": 2
}
